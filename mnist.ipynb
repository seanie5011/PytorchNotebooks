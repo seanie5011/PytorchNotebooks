{
 "cells": [
  {
   "cell_type": "markdown",
   "id": "a8f49503-d3fc-4af2-8f55-032f38ef7ada",
   "metadata": {},
   "source": [
    "# Learning Pytorch: MNIST Dataset"
   ]
  },
  {
   "cell_type": "markdown",
   "id": "7db35a14-2033-46fa-9afc-39cfe7d1e830",
   "metadata": {},
   "source": [
    "In this notebook we will go through a complete introduction to Pytorch, using the MNIST dataset as an example.\n",
    "\n",
    "*This follows the tutorial by NeuralNine: https://www.youtube.com/watch?v=vBlO87ZAiiw&list=WL&index=5&t=161s&ab_channel=NeuralNine*"
   ]
  },
  {
   "cell_type": "markdown",
   "id": "9923997d-6837-4fb5-889a-c704d95c3985",
   "metadata": {},
   "source": [
    "## The Dataset"
   ]
  },
  {
   "cell_type": "markdown",
   "id": "4ec5c76c-c420-4194-8a5e-f9975ed2ae12",
   "metadata": {},
   "source": [
    "A tutorial by the pytorch community on the FashionMNIST dataset: https://pytorch.org/tutorials/beginner/basics/data_tutorial.html"
   ]
  },
  {
   "cell_type": "markdown",
   "id": "ccf67ca9-c410-4f1d-a7ec-60dba66be51b",
   "metadata": {},
   "source": [
    "### Importing the data"
   ]
  },
  {
   "cell_type": "markdown",
   "id": "bc7f3949-f7ef-46f4-86e5-5e318962f0c3",
   "metadata": {},
   "source": [
    "The torchvision package consists of popular datasets, model architectures, and common image transformations for computer vision. We import certain datasets and transform them to tensors by using the following:"
   ]
  },
  {
   "cell_type": "code",
   "execution_count": 1,
   "id": "b45f5f04-1504-4b0b-821f-8cc09fa386f3",
   "metadata": {},
   "outputs": [],
   "source": [
    "from torchvision import datasets\n",
    "from torchvision.transforms import ToTensor"
   ]
  },
  {
   "cell_type": "markdown",
   "id": "c8b79af8-df19-4384-b19d-f0704cc2204b",
   "metadata": {},
   "source": [
    "We use the `train` parameter to determine whether we are looking at training or testing data. Setting `download` to false means it would look for the dataset in local storage:"
   ]
  },
  {
   "cell_type": "code",
   "execution_count": 2,
   "id": "8373f496-4943-4821-8e96-4343b8834a14",
   "metadata": {},
   "outputs": [],
   "source": [
    "train_data = datasets.MNIST(\n",
    "    root=\"data\",\n",
    "    train=True,\n",
    "    transform=ToTensor(),\n",
    "    download=True,\n",
    ")\n",
    "\n",
    "test_data = datasets.MNIST(\n",
    "    root=\"data\",\n",
    "    train=False,\n",
    "    transform=ToTensor(),\n",
    "    download=True,\n",
    ")"
   ]
  },
  {
   "cell_type": "markdown",
   "id": "3bb7be2a-9c9b-4495-84be-f59a9d7100f7",
   "metadata": {},
   "source": [
    "Let's look at some details of it:"
   ]
  },
  {
   "cell_type": "code",
   "execution_count": 3,
   "id": "bb1636d6-9fe1-4636-bf8b-90b223019ad4",
   "metadata": {},
   "outputs": [
    {
     "data": {
      "text/plain": [
       "Dataset MNIST\n",
       "    Number of datapoints: 60000\n",
       "    Root location: data\n",
       "    Split: Train\n",
       "    StandardTransform\n",
       "Transform: ToTensor()"
      ]
     },
     "execution_count": 3,
     "metadata": {},
     "output_type": "execute_result"
    }
   ],
   "source": [
    "train_data"
   ]
  },
  {
   "cell_type": "markdown",
   "id": "89dd1f89-0fb9-4222-84a4-f289a187fdc2",
   "metadata": {},
   "source": [
    "The `.data` attribute is the pixel images of our digits:"
   ]
  },
  {
   "cell_type": "code",
   "execution_count": 4,
   "id": "ce351e93-bacc-41f8-aef7-0a503c1c1d0a",
   "metadata": {},
   "outputs": [
    {
     "data": {
      "text/plain": [
       "tensor([[[0, 0, 0,  ..., 0, 0, 0],\n",
       "         [0, 0, 0,  ..., 0, 0, 0],\n",
       "         [0, 0, 0,  ..., 0, 0, 0],\n",
       "         ...,\n",
       "         [0, 0, 0,  ..., 0, 0, 0],\n",
       "         [0, 0, 0,  ..., 0, 0, 0],\n",
       "         [0, 0, 0,  ..., 0, 0, 0]],\n",
       "\n",
       "        [[0, 0, 0,  ..., 0, 0, 0],\n",
       "         [0, 0, 0,  ..., 0, 0, 0],\n",
       "         [0, 0, 0,  ..., 0, 0, 0],\n",
       "         ...,\n",
       "         [0, 0, 0,  ..., 0, 0, 0],\n",
       "         [0, 0, 0,  ..., 0, 0, 0],\n",
       "         [0, 0, 0,  ..., 0, 0, 0]],\n",
       "\n",
       "        [[0, 0, 0,  ..., 0, 0, 0],\n",
       "         [0, 0, 0,  ..., 0, 0, 0],\n",
       "         [0, 0, 0,  ..., 0, 0, 0],\n",
       "         ...,\n",
       "         [0, 0, 0,  ..., 0, 0, 0],\n",
       "         [0, 0, 0,  ..., 0, 0, 0],\n",
       "         [0, 0, 0,  ..., 0, 0, 0]],\n",
       "\n",
       "        ...,\n",
       "\n",
       "        [[0, 0, 0,  ..., 0, 0, 0],\n",
       "         [0, 0, 0,  ..., 0, 0, 0],\n",
       "         [0, 0, 0,  ..., 0, 0, 0],\n",
       "         ...,\n",
       "         [0, 0, 0,  ..., 0, 0, 0],\n",
       "         [0, 0, 0,  ..., 0, 0, 0],\n",
       "         [0, 0, 0,  ..., 0, 0, 0]],\n",
       "\n",
       "        [[0, 0, 0,  ..., 0, 0, 0],\n",
       "         [0, 0, 0,  ..., 0, 0, 0],\n",
       "         [0, 0, 0,  ..., 0, 0, 0],\n",
       "         ...,\n",
       "         [0, 0, 0,  ..., 0, 0, 0],\n",
       "         [0, 0, 0,  ..., 0, 0, 0],\n",
       "         [0, 0, 0,  ..., 0, 0, 0]],\n",
       "\n",
       "        [[0, 0, 0,  ..., 0, 0, 0],\n",
       "         [0, 0, 0,  ..., 0, 0, 0],\n",
       "         [0, 0, 0,  ..., 0, 0, 0],\n",
       "         ...,\n",
       "         [0, 0, 0,  ..., 0, 0, 0],\n",
       "         [0, 0, 0,  ..., 0, 0, 0],\n",
       "         [0, 0, 0,  ..., 0, 0, 0]]], dtype=torch.uint8)"
      ]
     },
     "execution_count": 4,
     "metadata": {},
     "output_type": "execute_result"
    }
   ],
   "source": [
    "train_data.data"
   ]
  },
  {
   "cell_type": "code",
   "execution_count": 5,
   "id": "01380fab-743a-4ffd-8fb2-cc12e7b3bc1a",
   "metadata": {},
   "outputs": [
    {
     "data": {
      "text/plain": [
       "torch.Size([60000, 28, 28])"
      ]
     },
     "execution_count": 5,
     "metadata": {},
     "output_type": "execute_result"
    }
   ],
   "source": [
    "train_data.data.shape  # note you can also call train_data.data.size() for the same"
   ]
  },
  {
   "cell_type": "markdown",
   "id": "7e333f1e-ef5d-4157-8ce1-053aee136c79",
   "metadata": {},
   "source": [
    "And the `.targets` attribute are the labels:"
   ]
  },
  {
   "cell_type": "code",
   "execution_count": 6,
   "id": "6ea38da9-55d7-4237-96e3-d93bf076b1e2",
   "metadata": {},
   "outputs": [
    {
     "data": {
      "text/plain": [
       "tensor([5, 0, 4,  ..., 5, 6, 8])"
      ]
     },
     "execution_count": 6,
     "metadata": {},
     "output_type": "execute_result"
    }
   ],
   "source": [
    "train_data.targets"
   ]
  },
  {
   "cell_type": "code",
   "execution_count": 7,
   "id": "69a2ab49-13a0-4745-9293-902547a841a7",
   "metadata": {},
   "outputs": [
    {
     "data": {
      "text/plain": [
       "torch.Size([60000])"
      ]
     },
     "execution_count": 7,
     "metadata": {},
     "output_type": "execute_result"
    }
   ],
   "source": [
    "train_data.targets.shape"
   ]
  },
  {
   "cell_type": "markdown",
   "id": "7fc319ed-3f52-4030-8bac-162c6b34a7b9",
   "metadata": {},
   "source": [
    "Likewise for the testing data:"
   ]
  },
  {
   "cell_type": "code",
   "execution_count": 8,
   "id": "39a430d8-8fbb-49b2-b2ca-71c6eda01469",
   "metadata": {},
   "outputs": [
    {
     "data": {
      "text/plain": [
       "Dataset MNIST\n",
       "    Number of datapoints: 10000\n",
       "    Root location: data\n",
       "    Split: Test\n",
       "    StandardTransform\n",
       "Transform: ToTensor()"
      ]
     },
     "execution_count": 8,
     "metadata": {},
     "output_type": "execute_result"
    }
   ],
   "source": [
    "test_data"
   ]
  },
  {
   "cell_type": "code",
   "execution_count": 9,
   "id": "3c2659bd-fd73-4caa-964e-e62a8a8852f9",
   "metadata": {},
   "outputs": [
    {
     "data": {
      "text/plain": [
       "torch.Size([10000, 28, 28])"
      ]
     },
     "execution_count": 9,
     "metadata": {},
     "output_type": "execute_result"
    }
   ],
   "source": [
    "test_data.data.shape"
   ]
  },
  {
   "cell_type": "code",
   "execution_count": 10,
   "id": "899dbb7a-0b34-44ad-a9a2-65a158009a64",
   "metadata": {},
   "outputs": [
    {
     "data": {
      "text/plain": [
       "torch.Size([10000])"
      ]
     },
     "execution_count": 10,
     "metadata": {},
     "output_type": "execute_result"
    }
   ],
   "source": [
    "test_data.targets.shape"
   ]
  },
  {
   "cell_type": "markdown",
   "id": "92f2ea37-7711-48de-bba9-df9dd248ceb1",
   "metadata": {},
   "source": [
    "Let's visualise some of these:"
   ]
  },
  {
   "cell_type": "code",
   "execution_count": 11,
   "id": "2698421b-31a0-4804-9e82-135b7e06412b",
   "metadata": {},
   "outputs": [
    {
     "data": {
      "image/png": "[encoded data removed]",
      "text/plain": [
       "<Figure size 800x800 with 9 Axes>"
      ]
     },
     "metadata": {},
     "output_type": "display_data"
    }
   ],
   "source": [
    "import matplotlib.pyplot as plt\n",
    "import torch\n",
    "\n",
    "figure = plt.figure(figsize=(8, 8))\n",
    "cols, rows = 3, 3\n",
    "for i in range(1, cols * rows + 1):\n",
    "    sample_idx = torch.randint(len(train_data), size=(1,)).item()\n",
    "    img, label = train_data[sample_idx]\n",
    "    figure.add_subplot(rows, cols, i)\n",
    "    plt.title(label)\n",
    "    plt.axis(\"off\")\n",
    "    plt.imshow(img.squeeze(), cmap=\"gray\")\n",
    "plt.show()"
   ]
  },
  {
   "cell_type": "markdown",
   "id": "c7c7ced1-8614-4eae-99bd-76fbd1276f80",
   "metadata": {},
   "source": [
    "### Loading the data"
   ]
  },
  {
   "cell_type": "markdown",
   "id": "773c24dd-8b3f-45da-a991-98ffceb55af8",
   "metadata": {},
   "source": [
    "The dataset retrieves our dataset's features and labels one sample at a time. While training a model, we typically want to pass samples in \"minibatches\", `DataLoader` is an iterable that allows us to do this:le"
   ]
  },
  {
   "cell_type": "code",
   "execution_count": 12,
   "id": "9055f9a0-d595-4586-b942-ac85a53093bb",
   "metadata": {},
   "outputs": [
    {
     "data": {
      "text/plain": [
       "{'train': <torch.utils.data.dataloader.DataLoader at 0x1c5dac9c9a0>,\n",
       " 'test': <torch.utils.data.dataloader.DataLoader at 0x1c5dac63670>}"
      ]
     },
     "execution_count": 12,
     "metadata": {},
     "output_type": "execute_result"
    }
   ],
   "source": [
    "from torch.utils.data import DataLoader\n",
    "\n",
    "loaders = {\n",
    "    \"train\": DataLoader(\n",
    "        train_data,\n",
    "        batch_size=100,\n",
    "        shuffle=True,\n",
    "        num_workers=1,  # how many subprocesses to use for data loading\n",
    "    ),\n",
    "    \"test\": DataLoader(\n",
    "        test_data,\n",
    "        batch_size=100,\n",
    "        shuffle=True,\n",
    "        num_workers=1,\n",
    "    ),\n",
    "}\n",
    "loaders"
   ]
  },
  {
   "cell_type": "markdown",
   "id": "2376e3c7-86bf-44f7-a333-eacdd92c7335",
   "metadata": {},
   "source": [
    "## The model"
   ]
  },
  {
   "cell_type": "markdown",
   "id": "d3d6f226-c1fd-4f26-a841-2ac5fdb6c5b1",
   "metadata": {},
   "source": [
    "We need the following to create our Neural Network model:"
   ]
  },
  {
   "cell_type": "code",
   "execution_count": 13,
   "id": "ec840144-d540-4519-b41e-fc706351447b",
   "metadata": {},
   "outputs": [],
   "source": [
    "import torch.nn as nn\n",
    "import torch.nn.functional as F\n",
    "import torch.optim as optim"
   ]
  },
  {
   "cell_type": "markdown",
   "id": "a433c636-1d86-457a-adac-609a34eae365",
   "metadata": {},
   "source": [
    "The model we are going to create is a Convolutional Neural Network (CNN), consisting of two convolutional layers, a dropout layer, and two dense layers:"
   ]
  },
  {
   "cell_type": "code",
   "execution_count": 14,
   "id": "3ee55ad5-5c51-40a5-902e-165f36effbe5",
   "metadata": {},
   "outputs": [],
   "source": [
    "class CNN(nn.Module):\n",
    "    def __init__(self):\n",
    "        \"\"\"\n",
    "        Where we define our model.\n",
    "        \"\"\"\n",
    "        super(CNN, self).__init__()  # inherit from module\n",
    "\n",
    "        # convolutional layers\n",
    "        self.conv1 = nn.Conv2d(1, 10, kernel_size=5)  # 1 in, 10 out\n",
    "        self.conv2 = nn.Conv2d(10, 20, kernel_size=5)  # 10 in, 20 out\n",
    "        # dropout layer on the second convolutional layer\n",
    "        self.conv2_drop = nn.Dropout2d()\n",
    "        # dense layers\n",
    "        self.fc1 = nn.Linear(320, 50)  # fc stands for fully-connected\n",
    "        self.fc2 = nn.Linear(50, 10)\n",
    "\n",
    "    def forward(self, x):\n",
    "        \"\"\"\n",
    "        Like the activation function part of keras.\n",
    "        \"\"\"\n",
    "        # apply a 2-stride maxpooling onto our conv1, then relu it\n",
    "        x = F.relu(\n",
    "            F.max_pool2d(self.conv1(x), 2)\n",
    "        )\n",
    "        # now a 2-stride maxpooling onto the dropout of the conv2, then relu it\n",
    "        x = F.relu(\n",
    "            F.max_pool2d(\n",
    "                self.conv2_drop(self.conv2(x)), 2\n",
    "            )\n",
    "        )\n",
    "        # flatten the data for the linear layers, reshape to the fc1 sizing\n",
    "        x = x.view(-1, 320)\n",
    "        # activation on the first dense layer\n",
    "        x = F.relu(self.fc1(x))\n",
    "        # use dropout ONLY IN TRAINING, this is extra\n",
    "        x = F.dropout(x, training=self.training)  # won't activate for evaluation, self.training is found in nn.Module\n",
    "        # activation for final dense layer\n",
    "        x = self.fc2(x)\n",
    "        # finally, output softmax to get probabilities\n",
    "        return F.softmax(x, dim=1)  # apply along rows"
   ]
  },
  {
   "cell_type": "markdown",
   "id": "31c713fc-cb93-4f50-8ba8-e317b3465401",
   "metadata": {},
   "source": [
    "Now we can check if we can use a CUDA GPU or do we have to use the CPU, then port the model to this device. Then, we define the optimizer, loss function, our training regime and our testing regime:"
   ]
  },
  {
   "cell_type": "code",
   "execution_count": 15,
   "id": "2a6cf11d-fe56-4156-9b6c-e98be12cc9f4",
   "metadata": {},
   "outputs": [
    {
     "data": {
      "text/plain": [
       "device(type='cuda')"
      ]
     },
     "metadata": {},
     "output_type": "display_data"
    }
   ],
   "source": [
    "# check for GPU or CPU\n",
    "device = torch.device(\"cuda\" if torch.cuda.is_available() else \"cpu\")\n",
    "display(device)\n",
    "# port to either\n",
    "model = CNN().to(device)\n",
    "\n",
    "# define optimizer\n",
    "optimizer = optim.Adam(model.parameters(), lr=0.001)\n",
    "# define loss function\n",
    "loss_fn = nn.CrossEntropyLoss()\n",
    "\n",
    "# training scheme per epoch\n",
    "def train(epoch):\n",
    "    # must tell model we are in training mode\n",
    "    model.train()\n",
    "    # iterate over batches in training data\n",
    "    for batch_idx, (data, target) in enumerate(loaders[\"train\"]):\n",
    "        # send to device\n",
    "        data, target = data.to(device), target.to(device)\n",
    "        \n",
    "        # zero out the gradients in the optimizer\n",
    "        optimizer.zero_grad()\n",
    "        \n",
    "        # current model predictions\n",
    "        output = model(data)\n",
    "        # get loss from this\n",
    "        loss = loss_fn(output, target)\n",
    "        loss.backward()  # back-propagation\n",
    "        # then update gradients\n",
    "        optimizer.step()\n",
    "\n",
    "        # every now and then document the epoch and loss stats\n",
    "        if batch_idx % 20 == 0:\n",
    "            print(f\"Train Epoch: {epoch} [{batch_idx * len(data)}/{len(loaders['train'].dataset)} ({100.0 * batch_idx/len(loaders['train']):.0f}%)]\\t{loss.item():.6f}\")\n",
    "\n",
    "# testing scheme on evaluation/inference\n",
    "def test():\n",
    "    # tell model we are in testing mode\n",
    "    model.eval()\n",
    "    # set loss and number correct to zero\n",
    "    test_loss = 0\n",
    "    correct = 0\n",
    "\n",
    "    # dont want to calculate gradients as we are doing inference\n",
    "    with torch.no_grad():\n",
    "        for data, target in loaders[\"test\"]:\n",
    "            # send to device\n",
    "            data, target = data.to(device), target.to(device)\n",
    "\n",
    "            # get predictions\n",
    "            output = model(data)\n",
    "            # update loss\n",
    "            test_loss += loss_fn(output, target).item()\n",
    "            \n",
    "            # get the models decision/prediction\n",
    "            pred = output.argmax(dim=1, keepdim=True)\n",
    "            # eq checks if they are equal, view the target in the same way as pred, sum over the whole batch\n",
    "            correct += pred.eq(target.view_as(pred)).sum().item()\n",
    "\n",
    "    # have to get the average loss over all the batches\n",
    "    test_loss /= len(loaders[\"test\"].dataset)\n",
    "\n",
    "    # print stats\n",
    "    print(f\"\\nTest set: Average loss: {test_loss:.4f}, Accuracy: {correct}/{len(loaders['test'].dataset)} ({100.0 * correct/len(loaders['test'].dataset):.0f}%)\\n\")"
   ]
  },
  {
   "cell_type": "markdown",
   "id": "2533fbb0-d3b8-4273-b397-ba356f874daa",
   "metadata": {},
   "source": [
    "Now start the training over as many epochs as we want:"
   ]
  },
  {
   "cell_type": "code",
   "execution_count": 16,
   "id": "a1dbb959-eb20-47da-b25d-10377527ccae",
   "metadata": {},
   "outputs": [
    {
     "name": "stdout",
     "output_type": "stream",
     "text": [
      "Train Epoch: 1 [0/60000 (0%)]\t2.303153\n",
      "Train Epoch: 1 [2000/60000 (3%)]\t2.285573\n",
      "Train Epoch: 1 [4000/60000 (7%)]\t2.188797\n",
      "Train Epoch: 1 [6000/60000 (10%)]\t1.926634\n",
      "Train Epoch: 1 [8000/60000 (13%)]\t1.832542\n",
      "Train Epoch: 1 [10000/60000 (17%)]\t1.858783\n",
      "Train Epoch: 1 [12000/60000 (20%)]\t1.795432\n",
      "Train Epoch: 1 [14000/60000 (23%)]\t1.762325\n",
      "Train Epoch: 1 [16000/60000 (27%)]\t1.739835\n",
      "Train Epoch: 1 [18000/60000 (30%)]\t1.744012\n",
      "Train Epoch: 1 [20000/60000 (33%)]\t1.728854\n",
      "Train Epoch: 1 [22000/60000 (37%)]\t1.642469\n",
      "Train Epoch: 1 [24000/60000 (40%)]\t1.643310\n",
      "Train Epoch: 1 [26000/60000 (43%)]\t1.734039\n",
      "Train Epoch: 1 [28000/60000 (47%)]\t1.652664\n",
      "Train Epoch: 1 [30000/60000 (50%)]\t1.607865\n",
      "Train Epoch: 1 [32000/60000 (53%)]\t1.640386\n",
      "Train Epoch: 1 [34000/60000 (57%)]\t1.659336\n",
      "Train Epoch: 1 [36000/60000 (60%)]\t1.606522\n",
      "Train Epoch: 1 [38000/60000 (63%)]\t1.671762\n",
      "Train Epoch: 1 [40000/60000 (67%)]\t1.628736\n",
      "Train Epoch: 1 [42000/60000 (70%)]\t1.646361\n",
      "Train Epoch: 1 [44000/60000 (73%)]\t1.652093\n",
      "Train Epoch: 1 [46000/60000 (77%)]\t1.612521\n",
      "Train Epoch: 1 [48000/60000 (80%)]\t1.669661\n",
      "Train Epoch: 1 [50000/60000 (83%)]\t1.597013\n",
      "Train Epoch: 1 [52000/60000 (87%)]\t1.521836\n",
      "Train Epoch: 1 [54000/60000 (90%)]\t1.574296\n",
      "Train Epoch: 1 [56000/60000 (93%)]\t1.594421\n",
      "Train Epoch: 1 [58000/60000 (97%)]\t1.606807\n",
      "\n",
      "Test set: Average loss: 0.0152, Accuracy: 9410/10000 (94%)\n",
      "\n",
      "Train Epoch: 2 [0/60000 (0%)]\t1.579680\n",
      "Train Epoch: 2 [2000/60000 (3%)]\t1.579142\n",
      "Train Epoch: 2 [4000/60000 (7%)]\t1.623745\n",
      "Train Epoch: 2 [6000/60000 (10%)]\t1.580389\n",
      "Train Epoch: 2 [8000/60000 (13%)]\t1.534622\n",
      "Train Epoch: 2 [10000/60000 (17%)]\t1.580338\n",
      "Train Epoch: 2 [12000/60000 (20%)]\t1.581537\n",
      "Train Epoch: 2 [14000/60000 (23%)]\t1.601661\n",
      "Train Epoch: 2 [16000/60000 (27%)]\t1.552170\n",
      "Train Epoch: 2 [18000/60000 (30%)]\t1.595906\n",
      "Train Epoch: 2 [20000/60000 (33%)]\t1.567988\n",
      "Train Epoch: 2 [22000/60000 (37%)]\t1.554087\n",
      "Train Epoch: 2 [24000/60000 (40%)]\t1.580256\n",
      "Train Epoch: 2 [26000/60000 (43%)]\t1.564080\n",
      "Train Epoch: 2 [28000/60000 (47%)]\t1.563970\n",
      "Train Epoch: 2 [30000/60000 (50%)]\t1.584393\n",
      "Train Epoch: 2 [32000/60000 (53%)]\t1.612243\n",
      "Train Epoch: 2 [34000/60000 (57%)]\t1.593481\n",
      "Train Epoch: 2 [36000/60000 (60%)]\t1.551588\n",
      "Train Epoch: 2 [38000/60000 (63%)]\t1.513562\n",
      "Train Epoch: 2 [40000/60000 (67%)]\t1.546636\n",
      "Train Epoch: 2 [42000/60000 (70%)]\t1.557050\n",
      "Train Epoch: 2 [44000/60000 (73%)]\t1.594202\n",
      "Train Epoch: 2 [46000/60000 (77%)]\t1.531942\n",
      "Train Epoch: 2 [48000/60000 (80%)]\t1.568744\n",
      "Train Epoch: 2 [50000/60000 (83%)]\t1.578398\n",
      "Train Epoch: 2 [52000/60000 (87%)]\t1.568432\n",
      "Train Epoch: 2 [54000/60000 (90%)]\t1.532220\n",
      "Train Epoch: 2 [56000/60000 (93%)]\t1.542799\n",
      "Train Epoch: 2 [58000/60000 (97%)]\t1.553321\n",
      "\n",
      "Test set: Average loss: 0.0150, Accuracy: 9583/10000 (96%)\n",
      "\n",
      "Train Epoch: 3 [0/60000 (0%)]\t1.564389\n",
      "Train Epoch: 3 [2000/60000 (3%)]\t1.524244\n",
      "Train Epoch: 3 [4000/60000 (7%)]\t1.540704\n",
      "Train Epoch: 3 [6000/60000 (10%)]\t1.534858\n",
      "Train Epoch: 3 [8000/60000 (13%)]\t1.526859\n",
      "Train Epoch: 3 [10000/60000 (17%)]\t1.542607\n",
      "Train Epoch: 3 [12000/60000 (20%)]\t1.537042\n",
      "Train Epoch: 3 [14000/60000 (23%)]\t1.554440\n",
      "Train Epoch: 3 [16000/60000 (27%)]\t1.502032\n",
      "Train Epoch: 3 [18000/60000 (30%)]\t1.605639\n",
      "Train Epoch: 3 [20000/60000 (33%)]\t1.548946\n",
      "Train Epoch: 3 [22000/60000 (37%)]\t1.549270\n",
      "Train Epoch: 3 [24000/60000 (40%)]\t1.603438\n",
      "Train Epoch: 3 [26000/60000 (43%)]\t1.560485\n",
      "Train Epoch: 3 [28000/60000 (47%)]\t1.578847\n",
      "Train Epoch: 3 [30000/60000 (50%)]\t1.550479\n",
      "Train Epoch: 3 [32000/60000 (53%)]\t1.517223\n",
      "Train Epoch: 3 [34000/60000 (57%)]\t1.552256\n",
      "Train Epoch: 3 [36000/60000 (60%)]\t1.542408\n",
      "Train Epoch: 3 [38000/60000 (63%)]\t1.625630\n",
      "Train Epoch: 3 [40000/60000 (67%)]\t1.577850\n",
      "Train Epoch: 3 [42000/60000 (70%)]\t1.540395\n",
      "Train Epoch: 3 [44000/60000 (73%)]\t1.576760\n",
      "Train Epoch: 3 [46000/60000 (77%)]\t1.573700\n",
      "Train Epoch: 3 [48000/60000 (80%)]\t1.535025\n",
      "Train Epoch: 3 [50000/60000 (83%)]\t1.570987\n",
      "Train Epoch: 3 [52000/60000 (87%)]\t1.545370\n",
      "Train Epoch: 3 [54000/60000 (90%)]\t1.544366\n",
      "Train Epoch: 3 [56000/60000 (93%)]\t1.583726\n",
      "Train Epoch: 3 [58000/60000 (97%)]\t1.564965\n",
      "\n",
      "Test set: Average loss: 0.0150, Accuracy: 9633/10000 (96%)\n",
      "\n",
      "Train Epoch: 4 [0/60000 (0%)]\t1.527171\n",
      "Train Epoch: 4 [2000/60000 (3%)]\t1.505851\n",
      "Train Epoch: 4 [4000/60000 (7%)]\t1.513529\n",
      "Train Epoch: 4 [6000/60000 (10%)]\t1.546453\n",
      "Train Epoch: 4 [8000/60000 (13%)]\t1.551573\n",
      "Train Epoch: 4 [10000/60000 (17%)]\t1.540789\n",
      "Train Epoch: 4 [12000/60000 (20%)]\t1.561711\n",
      "Train Epoch: 4 [14000/60000 (23%)]\t1.529925\n",
      "Train Epoch: 4 [16000/60000 (27%)]\t1.585799\n",
      "Train Epoch: 4 [18000/60000 (30%)]\t1.574406\n",
      "Train Epoch: 4 [20000/60000 (33%)]\t1.520558\n",
      "Train Epoch: 4 [22000/60000 (37%)]\t1.526627\n",
      "Train Epoch: 4 [24000/60000 (40%)]\t1.579172\n",
      "Train Epoch: 4 [26000/60000 (43%)]\t1.573323\n",
      "Train Epoch: 4 [28000/60000 (47%)]\t1.625778\n",
      "Train Epoch: 4 [30000/60000 (50%)]\t1.545137\n",
      "Train Epoch: 4 [32000/60000 (53%)]\t1.549773\n",
      "Train Epoch: 4 [34000/60000 (57%)]\t1.584203\n",
      "Train Epoch: 4 [36000/60000 (60%)]\t1.534261\n",
      "Train Epoch: 4 [38000/60000 (63%)]\t1.519106\n",
      "Train Epoch: 4 [40000/60000 (67%)]\t1.560499\n",
      "Train Epoch: 4 [42000/60000 (70%)]\t1.547608\n",
      "Train Epoch: 4 [44000/60000 (73%)]\t1.532123\n",
      "Train Epoch: 4 [46000/60000 (77%)]\t1.539322\n",
      "Train Epoch: 4 [48000/60000 (80%)]\t1.538134\n",
      "Train Epoch: 4 [50000/60000 (83%)]\t1.527815\n",
      "Train Epoch: 4 [52000/60000 (87%)]\t1.530778\n",
      "Train Epoch: 4 [54000/60000 (90%)]\t1.554697\n",
      "Train Epoch: 4 [56000/60000 (93%)]\t1.565904\n",
      "Train Epoch: 4 [58000/60000 (97%)]\t1.582347\n",
      "\n",
      "Test set: Average loss: 0.0149, Accuracy: 9673/10000 (97%)\n",
      "\n",
      "Train Epoch: 5 [0/60000 (0%)]\t1.531768\n",
      "Train Epoch: 5 [2000/60000 (3%)]\t1.539861\n",
      "Train Epoch: 5 [4000/60000 (7%)]\t1.504002\n",
      "Train Epoch: 5 [6000/60000 (10%)]\t1.548096\n",
      "Train Epoch: 5 [8000/60000 (13%)]\t1.510809\n",
      "Train Epoch: 5 [10000/60000 (17%)]\t1.553219\n",
      "Train Epoch: 5 [12000/60000 (20%)]\t1.567112\n",
      "Train Epoch: 5 [14000/60000 (23%)]\t1.498412\n",
      "Train Epoch: 5 [16000/60000 (27%)]\t1.508505\n",
      "Train Epoch: 5 [18000/60000 (30%)]\t1.563477\n",
      "Train Epoch: 5 [20000/60000 (33%)]\t1.548771\n",
      "Train Epoch: 5 [22000/60000 (37%)]\t1.569040\n",
      "Train Epoch: 5 [24000/60000 (40%)]\t1.501768\n",
      "Train Epoch: 5 [26000/60000 (43%)]\t1.537894\n",
      "Train Epoch: 5 [28000/60000 (47%)]\t1.523542\n",
      "Train Epoch: 5 [30000/60000 (50%)]\t1.519240\n",
      "Train Epoch: 5 [32000/60000 (53%)]\t1.587771\n",
      "Train Epoch: 5 [34000/60000 (57%)]\t1.540617\n",
      "Train Epoch: 5 [36000/60000 (60%)]\t1.530070\n",
      "Train Epoch: 5 [38000/60000 (63%)]\t1.540565\n",
      "Train Epoch: 5 [40000/60000 (67%)]\t1.510005\n",
      "Train Epoch: 5 [42000/60000 (70%)]\t1.510580\n",
      "Train Epoch: 5 [44000/60000 (73%)]\t1.546023\n",
      "Train Epoch: 5 [46000/60000 (77%)]\t1.569633\n",
      "Train Epoch: 5 [48000/60000 (80%)]\t1.526497\n",
      "Train Epoch: 5 [50000/60000 (83%)]\t1.574557\n",
      "Train Epoch: 5 [52000/60000 (87%)]\t1.566685\n",
      "Train Epoch: 5 [54000/60000 (90%)]\t1.575001\n",
      "Train Epoch: 5 [56000/60000 (93%)]\t1.558579\n",
      "Train Epoch: 5 [58000/60000 (97%)]\t1.510271\n",
      "\n",
      "Test set: Average loss: 0.0149, Accuracy: 9699/10000 (97%)\n",
      "\n",
      "Train Epoch: 6 [0/60000 (0%)]\t1.582453\n",
      "Train Epoch: 6 [2000/60000 (3%)]\t1.533070\n",
      "Train Epoch: 6 [4000/60000 (7%)]\t1.545514\n",
      "Train Epoch: 6 [6000/60000 (10%)]\t1.516007\n",
      "Train Epoch: 6 [8000/60000 (13%)]\t1.548667\n",
      "Train Epoch: 6 [10000/60000 (17%)]\t1.536083\n",
      "Train Epoch: 6 [12000/60000 (20%)]\t1.533496\n",
      "Train Epoch: 6 [14000/60000 (23%)]\t1.554710\n",
      "Train Epoch: 6 [16000/60000 (27%)]\t1.537263\n",
      "Train Epoch: 6 [18000/60000 (30%)]\t1.496668\n",
      "Train Epoch: 6 [20000/60000 (33%)]\t1.543678\n",
      "Train Epoch: 6 [22000/60000 (37%)]\t1.534047\n",
      "Train Epoch: 6 [24000/60000 (40%)]\t1.548089\n",
      "Train Epoch: 6 [26000/60000 (43%)]\t1.534774\n",
      "Train Epoch: 6 [28000/60000 (47%)]\t1.532336\n",
      "Train Epoch: 6 [30000/60000 (50%)]\t1.544538\n",
      "Train Epoch: 6 [32000/60000 (53%)]\t1.521238\n",
      "Train Epoch: 6 [34000/60000 (57%)]\t1.543942\n",
      "Train Epoch: 6 [36000/60000 (60%)]\t1.550312\n",
      "Train Epoch: 6 [38000/60000 (63%)]\t1.518970\n",
      "Train Epoch: 6 [40000/60000 (67%)]\t1.512591\n",
      "Train Epoch: 6 [42000/60000 (70%)]\t1.541643\n",
      "Train Epoch: 6 [44000/60000 (73%)]\t1.538885\n",
      "Train Epoch: 6 [46000/60000 (77%)]\t1.519889\n",
      "Train Epoch: 6 [48000/60000 (80%)]\t1.553046\n",
      "Train Epoch: 6 [50000/60000 (83%)]\t1.540052\n",
      "Train Epoch: 6 [52000/60000 (87%)]\t1.521129\n",
      "Train Epoch: 6 [54000/60000 (90%)]\t1.514089\n",
      "Train Epoch: 6 [56000/60000 (93%)]\t1.554920\n",
      "Train Epoch: 6 [58000/60000 (97%)]\t1.516507\n",
      "\n",
      "Test set: Average loss: 0.0149, Accuracy: 9722/10000 (97%)\n",
      "\n",
      "Train Epoch: 7 [0/60000 (0%)]\t1.531161\n",
      "Train Epoch: 7 [2000/60000 (3%)]\t1.491748\n",
      "Train Epoch: 7 [4000/60000 (7%)]\t1.576292\n",
      "Train Epoch: 7 [6000/60000 (10%)]\t1.568748\n",
      "Train Epoch: 7 [8000/60000 (13%)]\t1.522341\n",
      "Train Epoch: 7 [10000/60000 (17%)]\t1.518987\n",
      "Train Epoch: 7 [12000/60000 (20%)]\t1.532275\n",
      "Train Epoch: 7 [14000/60000 (23%)]\t1.490020\n",
      "Train Epoch: 7 [16000/60000 (27%)]\t1.527779\n",
      "Train Epoch: 7 [18000/60000 (30%)]\t1.502572\n",
      "Train Epoch: 7 [20000/60000 (33%)]\t1.530671\n",
      "Train Epoch: 7 [22000/60000 (37%)]\t1.585065\n",
      "Train Epoch: 7 [24000/60000 (40%)]\t1.550618\n",
      "Train Epoch: 7 [26000/60000 (43%)]\t1.512859\n",
      "Train Epoch: 7 [28000/60000 (47%)]\t1.518803\n",
      "Train Epoch: 7 [30000/60000 (50%)]\t1.565876\n",
      "Train Epoch: 7 [32000/60000 (53%)]\t1.546798\n",
      "Train Epoch: 7 [34000/60000 (57%)]\t1.505494\n",
      "Train Epoch: 7 [36000/60000 (60%)]\t1.540593\n",
      "Train Epoch: 7 [38000/60000 (63%)]\t1.513570\n",
      "Train Epoch: 7 [40000/60000 (67%)]\t1.531420\n",
      "Train Epoch: 7 [42000/60000 (70%)]\t1.481070\n",
      "Train Epoch: 7 [44000/60000 (73%)]\t1.533738\n",
      "Train Epoch: 7 [46000/60000 (77%)]\t1.551231\n",
      "Train Epoch: 7 [48000/60000 (80%)]\t1.553641\n",
      "Train Epoch: 7 [50000/60000 (83%)]\t1.531489\n",
      "Train Epoch: 7 [52000/60000 (87%)]\t1.530166\n",
      "Train Epoch: 7 [54000/60000 (90%)]\t1.539119\n",
      "Train Epoch: 7 [56000/60000 (93%)]\t1.542577\n",
      "Train Epoch: 7 [58000/60000 (97%)]\t1.503171\n",
      "\n",
      "Test set: Average loss: 0.0149, Accuracy: 9743/10000 (97%)\n",
      "\n",
      "Train Epoch: 8 [0/60000 (0%)]\t1.511823\n",
      "Train Epoch: 8 [2000/60000 (3%)]\t1.542063\n",
      "Train Epoch: 8 [4000/60000 (7%)]\t1.550553\n",
      "Train Epoch: 8 [6000/60000 (10%)]\t1.520060\n",
      "Train Epoch: 8 [8000/60000 (13%)]\t1.501894\n",
      "Train Epoch: 8 [10000/60000 (17%)]\t1.506964\n",
      "Train Epoch: 8 [12000/60000 (20%)]\t1.553995\n",
      "Train Epoch: 8 [14000/60000 (23%)]\t1.577327\n",
      "Train Epoch: 8 [16000/60000 (27%)]\t1.516341\n",
      "Train Epoch: 8 [18000/60000 (30%)]\t1.497906\n",
      "Train Epoch: 8 [20000/60000 (33%)]\t1.483208\n",
      "Train Epoch: 8 [22000/60000 (37%)]\t1.533528\n",
      "Train Epoch: 8 [24000/60000 (40%)]\t1.547713\n",
      "Train Epoch: 8 [26000/60000 (43%)]\t1.521123\n",
      "Train Epoch: 8 [28000/60000 (47%)]\t1.529363\n",
      "Train Epoch: 8 [30000/60000 (50%)]\t1.528923\n",
      "Train Epoch: 8 [32000/60000 (53%)]\t1.511589\n",
      "Train Epoch: 8 [34000/60000 (57%)]\t1.557051\n",
      "Train Epoch: 8 [36000/60000 (60%)]\t1.526602\n",
      "Train Epoch: 8 [38000/60000 (63%)]\t1.504769\n",
      "Train Epoch: 8 [40000/60000 (67%)]\t1.587326\n",
      "Train Epoch: 8 [42000/60000 (70%)]\t1.554017\n",
      "Train Epoch: 8 [44000/60000 (73%)]\t1.509606\n",
      "Train Epoch: 8 [46000/60000 (77%)]\t1.496509\n",
      "Train Epoch: 8 [48000/60000 (80%)]\t1.552312\n",
      "Train Epoch: 8 [50000/60000 (83%)]\t1.506491\n",
      "Train Epoch: 8 [52000/60000 (87%)]\t1.535627\n",
      "Train Epoch: 8 [54000/60000 (90%)]\t1.496361\n",
      "Train Epoch: 8 [56000/60000 (93%)]\t1.499745\n",
      "Train Epoch: 8 [58000/60000 (97%)]\t1.531656\n",
      "\n",
      "Test set: Average loss: 0.0149, Accuracy: 9748/10000 (97%)\n",
      "\n",
      "Train Epoch: 9 [0/60000 (0%)]\t1.536295\n",
      "Train Epoch: 9 [2000/60000 (3%)]\t1.534955\n",
      "Train Epoch: 9 [4000/60000 (7%)]\t1.494497\n",
      "Train Epoch: 9 [6000/60000 (10%)]\t1.490616\n",
      "Train Epoch: 9 [8000/60000 (13%)]\t1.530259\n",
      "Train Epoch: 9 [10000/60000 (17%)]\t1.501828\n",
      "Train Epoch: 9 [12000/60000 (20%)]\t1.521567\n",
      "Train Epoch: 9 [14000/60000 (23%)]\t1.515648\n",
      "Train Epoch: 9 [16000/60000 (27%)]\t1.548293\n",
      "Train Epoch: 9 [18000/60000 (30%)]\t1.496259\n",
      "Train Epoch: 9 [20000/60000 (33%)]\t1.518765\n",
      "Train Epoch: 9 [22000/60000 (37%)]\t1.500122\n",
      "Train Epoch: 9 [24000/60000 (40%)]\t1.517991\n",
      "Train Epoch: 9 [26000/60000 (43%)]\t1.566744\n",
      "Train Epoch: 9 [28000/60000 (47%)]\t1.481375\n",
      "Train Epoch: 9 [30000/60000 (50%)]\t1.566161\n",
      "Train Epoch: 9 [32000/60000 (53%)]\t1.543130\n",
      "Train Epoch: 9 [34000/60000 (57%)]\t1.506400\n",
      "Train Epoch: 9 [36000/60000 (60%)]\t1.541036\n",
      "Train Epoch: 9 [38000/60000 (63%)]\t1.503476\n",
      "Train Epoch: 9 [40000/60000 (67%)]\t1.526615\n",
      "Train Epoch: 9 [42000/60000 (70%)]\t1.532061\n",
      "Train Epoch: 9 [44000/60000 (73%)]\t1.557330\n",
      "Train Epoch: 9 [46000/60000 (77%)]\t1.490914\n",
      "Train Epoch: 9 [48000/60000 (80%)]\t1.529349\n",
      "Train Epoch: 9 [50000/60000 (83%)]\t1.549266\n",
      "Train Epoch: 9 [52000/60000 (87%)]\t1.515314\n",
      "Train Epoch: 9 [54000/60000 (90%)]\t1.521695\n",
      "Train Epoch: 9 [56000/60000 (93%)]\t1.545840\n",
      "Train Epoch: 9 [58000/60000 (97%)]\t1.522810\n",
      "\n",
      "Test set: Average loss: 0.0148, Accuracy: 9764/10000 (98%)\n",
      "\n",
      "Train Epoch: 10 [0/60000 (0%)]\t1.516553\n",
      "Train Epoch: 10 [2000/60000 (3%)]\t1.534750\n",
      "Train Epoch: 10 [4000/60000 (7%)]\t1.519413\n",
      "Train Epoch: 10 [6000/60000 (10%)]\t1.488847\n",
      "Train Epoch: 10 [8000/60000 (13%)]\t1.505828\n",
      "Train Epoch: 10 [10000/60000 (17%)]\t1.525454\n",
      "Train Epoch: 10 [12000/60000 (20%)]\t1.525841\n",
      "Train Epoch: 10 [14000/60000 (23%)]\t1.511360\n",
      "Train Epoch: 10 [16000/60000 (27%)]\t1.547396\n",
      "Train Epoch: 10 [18000/60000 (30%)]\t1.486104\n",
      "Train Epoch: 10 [20000/60000 (33%)]\t1.543027\n",
      "Train Epoch: 10 [22000/60000 (37%)]\t1.496771\n",
      "Train Epoch: 10 [24000/60000 (40%)]\t1.542930\n",
      "Train Epoch: 10 [26000/60000 (43%)]\t1.542763\n",
      "Train Epoch: 10 [28000/60000 (47%)]\t1.491997\n",
      "Train Epoch: 10 [30000/60000 (50%)]\t1.513395\n",
      "Train Epoch: 10 [32000/60000 (53%)]\t1.520930\n",
      "Train Epoch: 10 [34000/60000 (57%)]\t1.544806\n",
      "Train Epoch: 10 [36000/60000 (60%)]\t1.522638\n",
      "Train Epoch: 10 [38000/60000 (63%)]\t1.550435\n",
      "Train Epoch: 10 [40000/60000 (67%)]\t1.540887\n",
      "Train Epoch: 10 [42000/60000 (70%)]\t1.540738\n",
      "Train Epoch: 10 [44000/60000 (73%)]\t1.496428\n",
      "Train Epoch: 10 [46000/60000 (77%)]\t1.511584\n",
      "Train Epoch: 10 [48000/60000 (80%)]\t1.514279\n",
      "Train Epoch: 10 [50000/60000 (83%)]\t1.568999\n",
      "Train Epoch: 10 [52000/60000 (87%)]\t1.511178\n",
      "Train Epoch: 10 [54000/60000 (90%)]\t1.494880\n",
      "Train Epoch: 10 [56000/60000 (93%)]\t1.559049\n",
      "Train Epoch: 10 [58000/60000 (97%)]\t1.504655\n",
      "\n",
      "Test set: Average loss: 0.0148, Accuracy: 9774/10000 (98%)\n",
      "\n"
     ]
    }
   ],
   "source": [
    "for epoch in range(1, 11):\n",
    "    train(epoch)\n",
    "    test()"
   ]
  },
  {
   "cell_type": "markdown",
   "id": "4ae5ab2f-7053-4650-9fd8-a52656dbb74d",
   "metadata": {},
   "source": [
    "Now lets see how it does on some of the test data ourselves:"
   ]
  },
  {
   "cell_type": "code",
   "execution_count": 17,
   "id": "e26400e6-7175-40b9-a649-f072506dff0a",
   "metadata": {},
   "outputs": [
    {
     "data": {
      "image/png": "[encoded data removed]",
      "text/plain": [
       "<Figure size 640x480 with 1 Axes>"
      ]
     },
     "metadata": {},
     "output_type": "display_data"
    }
   ],
   "source": [
    "# set to evaluation mode\n",
    "model.eval()\n",
    "# get the data\n",
    "sample_idx = torch.randint(len(test_data), size=(1,)).item()\n",
    "data, target = test_data[sample_idx]\n",
    "data = data.unsqueeze(0).to(device)  # unsqueeze lets us send the same datapoint as a pretend batch\n",
    "# get the prediction\n",
    "output = model(data)\n",
    "prediction = output.argmax(dim=1, keepdim=True).item()\n",
    "# plot it\n",
    "img, label = test_data[sample_idx]\n",
    "plt.title(prediction)\n",
    "plt.axis(\"off\")\n",
    "plt.imshow(img.squeeze(), cmap=\"gray\")\n",
    "plt.show()"
   ]
  },
  {
   "cell_type": "code",
   "execution_count": null,
   "id": "81232ea4-1ff6-4d25-8e84-df0168882fa7",
   "metadata": {},
   "outputs": [],
   "source": []
  }
 ],
 "metadata": {
  "kernelspec": {
   "display_name": "Python 3 (ipykernel)",
   "language": "python",
   "name": "python3"
  },
  "language_info": {
   "codemirror_mode": {
    "name": "ipython",
    "version": 3
   },
   "file_extension": ".py",
   "mimetype": "text/x-python",
   "name": "python",
   "nbconvert_exporter": "python",
   "pygments_lexer": "ipython3",
   "version": "3.10.11"
  }
 },
 "nbformat": 4,
 "nbformat_minor": 5
}
